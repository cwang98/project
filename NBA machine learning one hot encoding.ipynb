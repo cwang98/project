{
 "cells": [
  {
   "cell_type": "code",
   "execution_count": 1,
   "metadata": {
    "collapsed": true
   },
   "outputs": [],
   "source": [
    "from itertools import product\n",
    "import numpy as np\n",
    "import pandas as pd\n",
    "import matplotlib.pyplot as plt\n",
    "from sklearn import datasets\n",
    "from sklearn.tree import DecisionTreeClassifier\n",
    "from sklearn.neighbors import KNeighborsClassifier\n",
    "from sklearn.svm import SVC\n",
    "from sklearn.ensemble import VotingClassifier\n",
    "from sklearn.ensemble import RandomForestClassifier\n",
    "from sklearn.feature_selection import RFECV\n",
    "from sklearn.model_selection import train_test_split\n",
    "from sklearn import metrics\n"
   ]
  },
  {
   "cell_type": "markdown",
   "metadata": {},
   "source": [
    "# Split the X and y"
   ]
  },
  {
   "cell_type": "code",
   "execution_count": 2,
   "metadata": {
    "collapsed": true
   },
   "outputs": [],
   "source": [
    "df_train= pd.read_csv('onehot_training.csv')\n",
    "df_test= pd.read_csv('onehot_testing.csv')"
   ]
  },
  {
   "cell_type": "code",
   "execution_count": 3,
   "metadata": {
    "collapsed": true
   },
   "outputs": [],
   "source": [
    "df_trainX=df_train.drop('+/-',axis=1)\n",
    "df_trainX=df_trainX.drop('W/L',axis=1)\n",
    "df_trainX=df_trainX.drop('Unnamed: 0',axis=1)\n",
    "df_testX=df_test.drop('+/-',axis=1)\n",
    "df_testX=df_testX.drop('W/L',axis=1)\n",
    "df_testX=df_testX.drop('Unnamed: 0',axis=1)\n"
   ]
  },
  {
   "cell_type": "code",
   "execution_count": 4,
   "metadata": {
    "collapsed": true
   },
   "outputs": [],
   "source": [
    "trainy1=df_train.values[:,-2]\n",
    "trainy1=trainy1.astype('int')\n",
    "trainy2=df_train.values[:,-1]\n",
    "trainy2=trainy2.astype('int')\n",
    "\n",
    "testy1=df_test.values[:,-2]\n",
    "testy1=testy1.astype('int')\n",
    "testy2=df_test.values[:,-1]\n",
    "testy2=testy2.astype('int')"
   ]
  },
  {
   "cell_type": "markdown",
   "metadata": {},
   "source": [
    "# Split the training set and the testing set"
   ]
  },
  {
   "cell_type": "code",
   "execution_count": 5,
   "metadata": {
    "collapsed": true
   },
   "outputs": [],
   "source": [
    "X_train=df_trainX.values\n",
    "X_train=X_train[:2000,]\n",
    "X_test=df_testX.values\n",
    "X_test=X_test[2000:,]\n",
    "\n",
    "y1_train=trainy1[:2000,]\n",
    "y1_test=testy1[2000:,]\n",
    "\n",
    "y2_train=trainy2[:2000,]\n",
    "y2_test=testy2[2000:,]\n",
    "\n"
   ]
  },
  {
   "cell_type": "raw",
   "metadata": {
    "collapsed": true
   },
   "source": [
    "y1=df_copy_trainall.values[:,-2]\n",
    "y1=y1.astype('int')\n",
    "#y1 denotes the W/L when predicting win or loss\n",
    "y2=df_copy_trainall.values[:,-1]\n",
    "y2=y2.astype('int')\n",
    "#y2 denotes the +\\- when predicting the score spread"
   ]
  },
  {
   "cell_type": "raw",
   "metadata": {
    "collapsed": true
   },
   "source": [
    "#import a seperate test set with the predictive data not the real one\n",
    "df= pd.read_csv('final_test.csv')\n",
    "df_copy_testall=df\n",
    "df=df.drop('+/-',axis=1)\n",
    "df=df.drop('W/L',axis=1)\n",
    "df=df.drop('GAME DATE',axis=1)\n",
    "df=df.drop('Unnamed: 0',axis=1)\n",
    "df_copy_testXwithcat=df\n",
    "df=df.drop('TEAM',axis=1)\n",
    "df=df.drop('OPP',axis=1)\n",
    "#df includes all the factors for X(before one hot encoding)\n",
    "df_copy_testXwithoutcat=df\n",
    "X_test=df.values\n",
    "y1_test=df_copy_testall.values[:,-2]\n",
    "y1_test=y1_test.astype('int')\n",
    "y2_test=df_copy_testall.values[:,-1]\n",
    "y2_test=y2_test.astype('int')\n",
    "#Split test set\n",
    "X_train=X[:1000,]\n",
    "y1_train=y1[:1000,]\n",
    "y2_train=y2[:1000,]\n",
    "X_test=X_test[1000:,]\n",
    "y1_test=y1_test[1000:,]\n",
    "y2_test=y2_test[1000:,]"
   ]
  },
  {
   "cell_type": "code",
   "execution_count": null,
   "metadata": {
    "collapsed": true
   },
   "outputs": [],
   "source": []
  },
  {
   "cell_type": "markdown",
   "metadata": {},
   "source": [
    "# Step 2: Fit in  Logistic Model"
   ]
  },
  {
   "cell_type": "markdown",
   "metadata": {},
   "source": [
    "# Select best hyperparameters"
   ]
  },
  {
   "cell_type": "code",
   "execution_count": 11,
   "metadata": {},
   "outputs": [
    {
     "name": "stdout",
     "output_type": "stream",
     "text": [
      "The best score is 0.9315\n",
      "The best parameters are {'penalty': 'l1', 'class_weight': None, 'C': 1}\n"
     ]
    }
   ],
   "source": [
    "from sklearn.linear_model import LogisticRegression\n",
    "from sklearn.model_selection import RandomizedSearchCV\n",
    "\n",
    "clf = LogisticRegression()\n",
    "\n",
    "params = {'C': [0.01, 0.1, 0.8, 0.9, 1,10],\n",
    "          'penalty': ['l1','l2'], \n",
    "          'class_weight':['balanced', None]}\n",
    "          \n",
    "          \n",
    "LRgrid = RandomizedSearchCV(param_distributions = params,estimator=clf, cv=5, scoring = 'accuracy')\n",
    "LRgrid.fit(X_train, y1_train)\n",
    "print('The best score is', LRgrid.best_score_)\n",
    "print('The best parameters are', LRgrid.best_params_)"
   ]
  },
  {
   "cell_type": "markdown",
   "metadata": {},
   "source": [
    "# Confusion Matrix Accuracy"
   ]
  },
  {
   "cell_type": "code",
   "execution_count": 12,
   "metadata": {},
   "outputs": [
    {
     "name": "stdout",
     "output_type": "stream",
     "text": [
      "[[149  81]\n",
      " [ 81 149]]\n"
     ]
    }
   ],
   "source": [
    "lr=LogisticRegression(penalty = 'l1', class_weight =None , C = 1)\n",
    "lr.fit(X_train, y1_train)\n",
    "y_pred = lr.predict(X_test)\n",
    "cm=metrics.confusion_matrix(y1_test,y_pred)\n",
    "print(cm)"
   ]
  },
  {
   "cell_type": "markdown",
   "metadata": {},
   "source": [
    "# ROC Curve Accuracy"
   ]
  },
  {
   "cell_type": "code",
   "execution_count": 13,
   "metadata": {},
   "outputs": [
    {
     "data": {
      "image/png": "[encoded data removed]",
      "text/plain": [
       "<matplotlib.figure.Figure at 0x11391fe48>"
      ]
     },
     "metadata": {},
     "output_type": "display_data"
    }
   ],
   "source": [
    "from sklearn.metrics import roc_curve, auc\n",
    "import matplotlib.pyplot as plt\n",
    "import random\n",
    "actual = y1_test\n",
    "predictions=y_pred\n",
    "false_positive_rate, true_positive_rate, thresholds = roc_curve(actual, predictions)\n",
    "roc_auc = auc(false_positive_rate, true_positive_rate)\n",
    "plt.title('Receiver Operating Characteristic')\n",
    "plt.plot(false_positive_rate, true_positive_rate, 'b',\n",
    "label='AUC = %0.2f'% roc_auc)\n",
    "plt.legend(loc='lower right')\n",
    "plt.plot([0,1],[0,1],'r--')\n",
    "plt.xlim([-0.1,1.2])\n",
    "plt.ylim([-0.1,1.2])\n",
    "plt.ylabel('True Positive Rate')\n",
    "plt.xlabel('False Positive Rate')\n",
    "plt.show()"
   ]
  },
  {
   "cell_type": "markdown",
   "metadata": {},
   "source": [
    "# Step 3: Fit in Random Forest Classifier"
   ]
  },
  {
   "cell_type": "markdown",
   "metadata": {},
   "source": [
    "# Select best hyperparameters"
   ]
  },
  {
   "cell_type": "code",
   "execution_count": 14,
   "metadata": {},
   "outputs": [
    {
     "name": "stdout",
     "output_type": "stream",
     "text": [
      "The best score is 0.866\n",
      "The best parameters are {'n_estimators': 30, 'min_samples_leaf': 2, 'max_features': 0.3, 'max_depth': 8}\n"
     ]
    }
   ],
   "source": [
    "from sklearn.ensemble import RandomForestClassifier \n",
    "from sklearn.model_selection import RandomizedSearchCV\n",
    "\n",
    "clf = RandomForestClassifier()\n",
    "\n",
    "\n",
    "params = {'n_estimators':[10,20,30,40],'max_depth': [2, 4, 8, 16], 'min_samples_leaf':[2, 4, 8],'max_features': [0.2,0.3,0.4, 0.8,1.0]}\n",
    "\n",
    "RFgrid = RandomizedSearchCV(param_distributions = params,estimator=clf, cv=5, scoring = 'accuracy')\n",
    "RFgrid.fit(X_train,y1_train)\n",
    "print('The best score is', RFgrid.best_score_)\n",
    "print('The best parameters are', RFgrid.best_params_)"
   ]
  },
  {
   "cell_type": "markdown",
   "metadata": {},
   "source": [
    "# Confusion Matrix Accuracy"
   ]
  },
  {
   "cell_type": "code",
   "execution_count": 15,
   "metadata": {},
   "outputs": [
    {
     "name": "stdout",
     "output_type": "stream",
     "text": [
      "[[140  90]\n",
      " [ 70 160]]\n"
     ]
    }
   ],
   "source": [
    "rf = RandomForestClassifier(n_estimators = 30, min_samples_leaf = 8,max_features = 0.3, max_depth = 8)\n",
    "rf.fit(X_train, y1_train)\n",
    "y_pred = rf.predict(X_test)\n",
    "cm=metrics.confusion_matrix(y1_test,y_pred)\n",
    "print(cm)"
   ]
  },
  {
   "cell_type": "markdown",
   "metadata": {},
   "source": [
    "# ROC Curve Accuracy"
   ]
  },
  {
   "cell_type": "code",
   "execution_count": 16,
   "metadata": {},
   "outputs": [
    {
     "data": {
      "image/png": "[encoded data removed]",
      "text/plain": [
       "<matplotlib.figure.Figure at 0x1146c6240>"
      ]
     },
     "metadata": {},
     "output_type": "display_data"
    }
   ],
   "source": [
    "from sklearn.metrics import roc_curve, auc\n",
    "import matplotlib.pyplot as plt\n",
    "import random\n",
    "actual = y1_test\n",
    "predictions=y_pred\n",
    "false_positive_rate, true_positive_rate, thresholds = roc_curve(actual, predictions)\n",
    "roc_auc = auc(false_positive_rate, true_positive_rate)\n",
    "plt.title('Receiver Operating Characteristic')\n",
    "plt.plot(false_positive_rate, true_positive_rate, 'b',\n",
    "label='AUC = %0.2f'% roc_auc)\n",
    "plt.legend(loc='lower right')\n",
    "plt.plot([0,1],[0,1],'r--')\n",
    "plt.xlim([-0.1,1.2])\n",
    "plt.ylim([-0.1,1.2])\n",
    "plt.ylabel('True Positive Rate')\n",
    "plt.xlabel('False Positive Rate')\n",
    "plt.show()"
   ]
  },
  {
   "cell_type": "code",
   "execution_count": null,
   "metadata": {
    "collapsed": true
   },
   "outputs": [],
   "source": []
  }
 ],
 "metadata": {
  "kernelspec": {
   "display_name": "Python 3",
   "language": "python",
   "name": "python3"
  },
  "language_info": {
   "codemirror_mode": {
    "name": "ipython",
    "version": 3
   },
   "file_extension": ".py",
   "mimetype": "text/x-python",
   "name": "python",
   "nbconvert_exporter": "python",
   "pygments_lexer": "ipython3",
   "version": "3.6.1"
  }
 },
 "nbformat": 4,
 "nbformat_minor": 2
}
