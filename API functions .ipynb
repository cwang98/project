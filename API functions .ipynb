{
 "cells": [
  {
   "cell_type": "code",
   "execution_count": 1,
   "metadata": {
    "collapsed": true
   },
   "outputs": [],
   "source": [
    "from itertools import product\n",
    "import numpy as np\n",
    "import pandas as pd\n",
    "import matplotlib.pyplot as plt\n",
    "from sklearn import datasets\n",
    "from sklearn.tree import DecisionTreeClassifier\n",
    "from sklearn.neighbors import KNeighborsClassifier\n",
    "from sklearn.svm import SVC\n",
    "from sklearn.ensemble import VotingClassifier\n",
    "from sklearn.ensemble import RandomForestClassifier\n",
    "from sklearn.feature_selection import RFECV\n",
    "from sklearn.model_selection import train_test_split\n",
    "from sklearn import metrics\n"
   ]
  },
  {
   "cell_type": "markdown",
   "metadata": {},
   "source": [
    "# Define a function for API"
   ]
  },
  {
   "cell_type": "code",
   "execution_count": 17,
   "metadata": {
    "collapsed": true
   },
   "outputs": [],
   "source": [
    "def one_hot_endcoding(csv):\n",
    "    df= pd.read_csv(csv)\n",
    "    \n",
    "    df_team=df['TEAM']\n",
    "    df_team=df_team.to_frame()\n",
    "    df_opp=df['OPP']\n",
    "    df_opp=df_opp.to_frame()\n",
    "    \n",
    "    df=df.drop('GAME DATE',axis=1)\n",
    "    df=df.drop('Unnamed: 0',axis=1)\n",
    "    df=df.drop('TEAM',axis=1)\n",
    "    df=df.drop('OPP',axis=1)\n",
    "    \n",
    "    df_onehot=df_team.join(df_opp)\n",
    "    df_onehot_dummies = pd.get_dummies(df_onehot, columns=df_onehot.columns, drop_first=True)\n",
    "    df_onehot=df_onehot_dummies.join(df)\n",
    "    return df_onehot\n",
    "    "
   ]
  },
  {
   "cell_type": "markdown",
   "metadata": {},
   "source": [
    "# Define a function for API"
   ]
  },
  {
   "cell_type": "code",
   "execution_count": 18,
   "metadata": {
    "collapsed": true
   },
   "outputs": [],
   "source": [
    "def split_train_X(df_train):\n",
    "    #This function extracts the training X set and return it\n",
    "    length=len(df_train)\n",
    "    split=length-length//6\n",
    "    df_trainX=df_train.drop('+/-',axis=1)\n",
    "    df_trainX=df_trainX.drop('W/L',axis=1)\n",
    "    df_trainX=df_trainX.drop('Unnamed: 0',axis=1)\n",
    "    X_train=df_trainX.values\n",
    "    X_train=X_train[:split,]\n",
    "    return X_train\n",
    "    "
   ]
  },
  {
   "cell_type": "code",
   "execution_count": null,
   "metadata": {
    "collapsed": true
   },
   "outputs": [],
   "source": [
    "def split_test_X(df_test):\n",
    "    #This function extracts the testing X set and return it\n",
    "    length=len(df_test)\n",
    "    split=length-length//6\n",
    "    df_testX=df_test.drop('+/-',axis=1)\n",
    "    df_testX=df_testX.drop('W/L',axis=1)\n",
    "    df_testX=df_testX.drop('Unnamed: 0',axis=1)\n",
    "    X_test=df_testX.values\n",
    "    X_test=X_test[split:,]\n",
    "    return X_test\n",
    "\n",
    "    "
   ]
  },
  {
   "cell_type": "code",
   "execution_count": null,
   "metadata": {
    "collapsed": true
   },
   "outputs": [],
   "source": [
    "def split_train_y1(df_train):\n",
    "    #This function extracts the training y1 set and return it\n",
    "    #Training y1 stands for the win and loss \n",
    "    length=len(df_train)\n",
    "    split=length-length//6\n",
    "    trainy1=df_train.values[:,-2]\n",
    "    trainy1=trainy1.astype('int')\n",
    "    y1_train=trainy1[:split,]\n",
    "    return y1_train\n",
    "    "
   ]
  },
  {
   "cell_type": "code",
   "execution_count": null,
   "metadata": {
    "collapsed": true
   },
   "outputs": [],
   "source": [
    "def split_train_y2(df_train):\n",
    "    #This function extracts the training y2 set and return it\n",
    "    #Training y2 stands for the score spread\n",
    "    length=len(df_train)\n",
    "    split=length-length//6\n",
    "    trainy2=df_train.values[:,-1]\n",
    "    trainy2=trainy2.astype('int')\n",
    "    y2_train=trainy2[:split,]\n",
    "    return y2_train"
   ]
  },
  {
   "cell_type": "code",
   "execution_count": null,
   "metadata": {
    "collapsed": true
   },
   "outputs": [],
   "source": [
    "def split_test_y1(df_test):\n",
    "    #This function extracts the testing y1 set and return it\n",
    "    #Testing y1 stands for the win and loss result\n",
    "    length=len(df_test)\n",
    "    split=length-length//6\n",
    "    testy1=df_test.values[:,-2]\n",
    "    testy1=testy1.astype('int')\n",
    "    y1_test=testy1[split:,]\n",
    "    return y1_test\n",
    "    \n",
    "    "
   ]
  },
  {
   "cell_type": "code",
   "execution_count": null,
   "metadata": {
    "collapsed": true
   },
   "outputs": [],
   "source": [
    "def split_test_y2(df_test):\n",
    "    #This function extracts the testing y2 set and return it\n",
    "    #Testing y2 stands for the score spread\n",
    "    length=len(df_test)\n",
    "    split=length-length//6\n",
    "    testy2=df_test.values[:,-1]\n",
    "    testy2=testy2.astype('int')\n",
    "    y2_test=testy2[split:,]\n",
    "    return y2_test\n",
    "    "
   ]
  }
 ],
 "metadata": {
  "kernelspec": {
   "display_name": "Python 3",
   "language": "python",
   "name": "python3"
  },
  "language_info": {
   "codemirror_mode": {
    "name": "ipython",
    "version": 3
   },
   "file_extension": ".py",
   "mimetype": "text/x-python",
   "name": "python",
   "nbconvert_exporter": "python",
   "pygments_lexer": "ipython3",
   "version": "3.6.1"
  }
 },
 "nbformat": 4,
 "nbformat_minor": 2
}
