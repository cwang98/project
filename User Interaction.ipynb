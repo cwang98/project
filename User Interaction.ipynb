{
 "cells": [
  {
   "cell_type": "code",
   "execution_count": 9,
   "metadata": {},
   "outputs": [],
   "source": [
    "import sys\n",
    "from API import UI_port"
   ]
  },
  {
   "cell_type": "code",
   "execution_count": 10,
   "metadata": {
    "collapsed": true
   },
   "outputs": [],
   "source": [
    "def input_home(valid_input_home):\n",
    "    while True:\n",
    "        input_home=input('enter the abbreviation of the ##HOME## team name: ').upper()\n",
    "        if input_home in valid_input_home:\n",
    "            break\n",
    "        else:\n",
    "            print(\"Please enter a valid input.\")\n",
    "    return input_home\n",
    "    \n",
    "            \n",
    "     "
   ]
  },
  {
   "cell_type": "code",
   "execution_count": 11,
   "metadata": {
    "collapsed": true
   },
   "outputs": [],
   "source": [
    "def input_away(valid_input_away):\n",
    "    while True:\n",
    "        input_away=input('enter the abbreviation of the ##AWAY## team name: ').upper()\n",
    "        if input_away in valid_input_away and input_away!=input_home:\n",
    "            break\n",
    "        else:\n",
    "            print(\"Please enter a valid input.\")\n",
    "    return input_away\n",
    "    \n",
    "    "
   ]
  },
  {
   "cell_type": "code",
   "execution_count": 12,
   "metadata": {
    "collapsed": true
   },
   "outputs": [],
   "source": [
    "def input_year(valid_year):\n",
    "    while True:\n",
    "        input_year=input('enter the ##YEAR## of the game date: ')\n",
    "        if input_year in valid_year :\n",
    "            break\n",
    "        else:\n",
    "            print(\"Please enter a valid input.\")\n",
    "    return input_year\n",
    "    "
   ]
  },
  {
   "cell_type": "code",
   "execution_count": 13,
   "metadata": {
    "collapsed": true
   },
   "outputs": [],
   "source": [
    "def input_month(valid_month):\n",
    "    while True:\n",
    "        input_month=input('enter the ##MONTH## of the game date: ')\n",
    "        if input_month in valid_month :\n",
    "            break\n",
    "        else:\n",
    "            print(\"Please enter a valid input.\")\n",
    "    return input_month"
   ]
  },
  {
   "cell_type": "code",
   "execution_count": 14,
   "metadata": {
    "collapsed": true
   },
   "outputs": [],
   "source": [
    "def input_date(valid_date):\n",
    "    while True:\n",
    "        input_date=input('enter the exact ##DATE## of the game: ')\n",
    "        if input_date in valid_date :\n",
    "            break\n",
    "        else:\n",
    "            print(\"Please enter a valid input.\")\n",
    "    return input_date"
   ]
  },
  {
   "cell_type": "code",
   "execution_count": 15,
   "metadata": {
    "collapsed": true
   },
   "outputs": [],
   "source": [
    "def main():\n",
    "\n",
    "    print('Welcome to the NBA prediction system for the 2017-2018 season!')\n",
    "\n",
    "    while True:\n",
    "        \n",
    "        valid_input_home = ['ATL','BKN','BOS','CHA','CHI','CLE','DAL','DEN','DET','GSW','HOU','IND','LAC','LAL','MEM',\n",
    "                            'MIA','MIL','MIN','NOP','NYK','OKC','ORL','PHI','PHX','POR','SAC','SAS','TOR','UTA','WAS']\n",
    "        valid_input_away = ['ATL','BKN','BOS','CHA','CHI','CLE','DAL','DEN','DET','GSW','HOU','IND','LAC','LAL','MEM',\n",
    "                            'MIA','MIL','MIN','NOP','NYK','OKC','ORL','PHI','PHX','POR','SAC','SAS','TOR','UTA','WAS']\n",
    "        valid_year=['2018','2017']\n",
    "        valid_month=['1','2','3','4','5','6','7','8','9','10','11','12']\n",
    "        valid_date=['1','2','3','4','5','6','7','8','9','10','11','12','13','14','15','16','17','18','19','20',\n",
    "                    '21','22','23','24','25','26','27','28','29','30','31']\n",
    "        \n",
    "        home=input_home(valid_input_home)\n",
    "        away=input_away(valid_input_away)\n",
    "        input_year(valid_year)\n",
    "        input_month(valid_month)\n",
    "        input_date(valid_date)\n",
    "        result=UI_port(home,away)\n",
    "        #print(result)\n",
    "        if result==1:\n",
    "            print(home,'will WIN!')\n",
    "        if result==0:\n",
    "            print(away,'will WIN!')\n",
    "        \n",
    "        #print('Expected score differential:', )\n",
    "        \n",
    "        break\n",
    "        \n",
    "    return \n",
    "        \n",
    "        \n",
    "\n",
    "        \n"
   ]
  },
  {
   "cell_type": "code",
   "execution_count": 16,
   "metadata": {},
   "outputs": [
    {
     "name": "stdout",
     "output_type": "stream",
     "text": [
      "Welcome to the NBA prediction system for the 2017-2018 season!\n",
      "enter the abbreviation of the ##HOME## team name: ATL\n",
      "enter the abbreviation of the ##AWAY## team name: BKN\n",
      "enter the ##YEAR## of the game date: 2017\n",
      "enter the ##MONTH## of the game date: 12\n",
      "enter the exact ##DATE## of the game: 24\n",
      "[0]\n",
      "BKN will WIN!\n"
     ]
    },
    {
     "name": "stderr",
     "output_type": "stream",
     "text": [
      "/Users/user/anaconda/lib/python3.6/site-packages/sklearn/base.py:315: UserWarning: Trying to unpickle estimator LabelBinarizer from version 0.19.1 when using version 0.18.1. This might lead to breaking code or invalid results. Use at your own risk.\n",
      "  UserWarning)\n",
      "/Users/user/anaconda/lib/python3.6/site-packages/sklearn/base.py:315: UserWarning: Trying to unpickle estimator MLPClassifier from version 0.19.1 when using version 0.18.1. This might lead to breaking code or invalid results. Use at your own risk.\n",
      "  UserWarning)\n"
     ]
    }
   ],
   "source": [
    "main()"
   ]
  },
  {
   "cell_type": "code",
   "execution_count": null,
   "metadata": {
    "collapsed": true
   },
   "outputs": [],
   "source": []
  }
 ],
 "metadata": {
  "kernelspec": {
   "display_name": "Python 3",
   "language": "python",
   "name": "python3"
  },
  "language_info": {
   "codemirror_mode": {
    "name": "ipython",
    "version": 3
   },
   "file_extension": ".py",
   "mimetype": "text/x-python",
   "name": "python",
   "nbconvert_exporter": "python",
   "pygments_lexer": "ipython3",
   "version": "3.6.1"
  }
 },
 "nbformat": 4,
 "nbformat_minor": 2
}
